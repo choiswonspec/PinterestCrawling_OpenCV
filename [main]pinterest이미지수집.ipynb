{
 "cells": [
  {
   "cell_type": "code",
   "execution_count": 1,
   "metadata": {},
   "outputs": [],
   "source": [
    "# from selenium import webdriver\n",
    "from selenium import webdriver\n",
    "from webdriver_manager.chrome import ChromeDriverManager # webdrv-manager 패키지 다운로드\n",
    "from bs4 import BeautifulSoup\n",
    "import time\n",
    "from selenium.webdriver.common.keys import Keys\n",
    "import numpy as np\n",
    "import pandas as pd\n",
    "import urllib.request\n",
    "import requests\n",
    "from tqdm import tqdm\n",
    "import os\n",
    "from datetime import datetime\n"
   ]
  },
  {
   "cell_type": "code",
   "execution_count": 2,
   "metadata": {},
   "outputs": [
    {
     "name": "stderr",
     "output_type": "stream",
     "text": [
      "[WDM] - Current google-chrome version is 85.0.4183\n",
      "[WDM] - Get LATEST driver version for 85.0.4183\n",
      "[WDM] - There is no [mac64] chromedriver for browser 85.0.4183 in cache\n",
      "[WDM] - Get LATEST driver version for 85.0.4183\n",
      "[WDM] - Trying to download new driver from http://chromedriver.storage.googleapis.com/85.0.4183.87/chromedriver_mac64.zip\n"
     ]
    },
    {
     "name": "stdout",
     "output_type": "stream",
     "text": [
      " \n"
     ]
    },
    {
     "name": "stderr",
     "output_type": "stream",
     "text": [
      "[WDM] - Driver has been saved in cache [/Users/choiswonspec/.wdm/drivers/chromedriver/mac64/85.0.4183.87]\n"
     ]
    }
   ],
   "source": [
    "\n",
    "driver = webdriver.Chrome(ChromeDriverManager().install())\n",
    "driver.get('https://www.pinterest.co.kr')\n",
    "driver.implicitly_wait(1)"
   ]
  },
  {
   "cell_type": "code",
   "execution_count": 3,
   "metadata": {},
   "outputs": [],
   "source": [
    "# 로그인 하기\n",
    "\n",
    "driver.find_element_by_xpath('//*[@id=\\\"__PWS_ROOT__\\\"]/div[1]/div/div/div/div[1]/div[1]/div[2]/div[2]/button/div').click()\n",
    "driver.implicitly_wait(1)\n",
    "time.sleep(1)\n"
   ]
  },
  {
   "cell_type": "code",
   "execution_count": null,
   "metadata": {},
   "outputs": [],
   "source": [
    "my_id = 'csw31915@daum.net'\n",
    "\n",
    "my_password = 'welcome2019!'\n",
    "\n",
    "driver.find_element_by_xpath('//*[@id=\\\"email\\\"]').send_keys(my_id)\n",
    "driver.find_element_by_xpath('//*[@id=\\\"password\\\"]').send_keys(my_password)\n",
    "driver.find_element_by_xpath('//*[@id=\\\"__PWS_ROOT__\\\"]/div[1]/div/div/div/div[1]/div[2]/div[2]/div/div/div/div[1]/div/div/div/div[3]/form/div[5]/button/div').click()\n",
    "time.sleep(2)"
   ]
  },
  {
   "cell_type": "code",
   "execution_count": null,
   "metadata": {},
   "outputs": [],
   "source": [
    "# keyword, color_name, pk 가져오기\n",
    "df_61 = pd.read_excel(\"./new_keycolor_query_200806.xlsx\", sheet_name='61')\n",
    "df_62 = pd.read_excel(\"./new_keycolor_query_200806.xlsx\", sheet_name='62')\n",
    "df_64 = pd.read_excel(\"./new_keycolor_query_200806.xlsx\", sheet_name='64')\n",
    "df_61['from'] = 61\n",
    "df_62['from'] = 62\n",
    "df_64['from'] = 64"
   ]
  },
  {
   "cell_type": "markdown",
   "metadata": {},
   "source": [
    "* 검색어 ( search_query ) -> google_query\n",
    "* kl_name (키토크) -> color_name\n",
    "* 이미지 저장 path -> direct + 파일명\n",
    "* 이미지 url -> \n",
    "* category_uid -> sheet 이름"
   ]
  },
  {
   "cell_type": "markdown",
   "metadata": {},
   "source": [
    "# 파일명 양식\n",
    "\n",
    "{date}/{resource}/{kl_pk}_{kl_name}_{category_uid}_{cnt}.jpg\n",
    "* date : yymmdd\n",
    "* cnt: 0부터 download 받은 순서(크게 관계없음)"
   ]
  },
  {
   "cell_type": "code",
   "execution_count": null,
   "metadata": {},
   "outputs": [],
   "source": [
    "################################## 코드 끊겨서 다시 돌릴 때\n",
    "'''df_62 = df_62.loc[200:].reset_index().drop(columns = 'index', axis = 1)\n",
    "df_62\n",
    "'''"
   ]
  },
  {
   "cell_type": "code",
   "execution_count": null,
   "metadata": {},
   "outputs": [],
   "source": [
    "search_query = []\n",
    "kl_name = []\n",
    "path = []\n",
    "url_column = []\n",
    "category_uid = []\n",
    "kl_pk = [\n",
    "    \n",
    "]\n",
    "# 파일명에 넣을 출처 이름\n",
    "resource = 'pinterest'\n",
    "\n",
    "#### 폴더명에 넣을 현재 날짜 \n",
    "#date = datetime.today().strftime(\"%y%m%d\")\n",
    "date = '200825'\n",
    "\n",
    "for df in tqdm([df_62]):#, df_62, df_64]):  # 각 엑셀 시트를 가져와서 반복문 \n",
    "    \n",
    "    #### 검색을 할 때는 언더바 _ 가 있어야 한다.\n",
    "    df['google_query'] = df['google_query'].str.replace(\" \", \"_\")\n",
    "    df['color_name'] = df['color_name'].str.replace(\" \",\"_\")\n",
    "\n",
    "    # 폴더 명에 넣을 sheet이름은 df['from'] 에서 가져오면 된다.\n",
    "    where = df['from'][0]\n",
    "    \n",
    "    for idx in tqdm(range(len(df))):\n",
    "        # 파일명에 넣을 google_query.. 실제 검색할 내용\n",
    "        word = df['google_query'][idx]\n",
    "        \n",
    "        # 파일명에 넣을 color_name\n",
    "        color = df['color_name'][idx]\n",
    "        \n",
    "        # 파일명에 넣을 pk\n",
    "        pk = df['pk'][idx]\n",
    "        \n",
    "        # 사이트 접속\n",
    "        driver.get('https://www.pinterest.co.kr')\n",
    "        time.sleep(1.5)\n",
    "        \n",
    "        # 검색어에 입력후 검색\n",
    "        a = driver.find_element_by_xpath('//*[@id=\"searchBoxContainer\"]/div/div/div[2]/input')\n",
    "        a.send_keys(word)\n",
    "        a.send_keys(Keys.ENTER)\n",
    "        time.sleep(1.5)\n",
    "        \n",
    "        \n",
    "         # 스크롤 내리기... pinterest 사이트 특성상 스크롤을 내릴 때마다 html 수집하여 이미지 url을 수집해야한다.. \n",
    "        b = driver.find_element_by_tag_name('body')\n",
    "        \n",
    "        image_list = []\n",
    "        escape_num = 0\n",
    "        while len(image_list)<501 and escape_num < 50:\n",
    "            #for i in range(3):\n",
    "            b.send_keys(Keys.END)\n",
    "            time.sleep(1.5)\n",
    "\n",
    "            # 해당 페이지 html 코드에서 이미지 url가져오기\n",
    "            html = driver.page_source\n",
    "            soup = BeautifulSoup(html, 'lxml')\n",
    "            k = soup.find_all(\"img\")\n",
    "            \n",
    "            time.sleep(1)\n",
    "\n",
    "            for j in range(len(k)):\n",
    "                image_list.append(k[j]['src'])\n",
    "            \n",
    "\n",
    "\n",
    "            image_list = list(set(image_list))\n",
    "            time.sleep(0.1)\n",
    "            escape_num += 1\n",
    "            time.sleep(1)\n",
    "            \n",
    "        \n",
    "        # 고화질로 얻기 위해 url 의 일부를 변경\n",
    "        temp = pd.DataFrame(image_list)\n",
    "        temp[0] = temp[0].str.replace(\"236x\",\"564x\")\n",
    "        url_list = temp[0].to_list()\n",
    "        \n",
    "        # 폴더 만들기\n",
    "        os.makedirs(f'/Users/choiswonspec/pinterest/{date}/{resource}', exist_ok = True)\n",
    "        #u = os.path.join('/Users/choiswonspec/pinterest',word)\n",
    "        #os.mkdir(u)\n",
    "        {date}/{resource}/{kl_pk}_{kl_name}_{category_uid}_{cnt}.jpg\n",
    "        \n",
    "        count = 0\n",
    "        for url in url_list:\n",
    "            try:\n",
    "                res = requests.get(url, verify=False, stream=True)\n",
    "                rawdata = res.raw.read()\n",
    "                direct = f'/Users/choiswonspec/pinterest/{date}/{resource}'\n",
    "                with open(os.path.join(direct, str(pk) +\"_\"+ color +\"_\"+ where +\"_\"+ str(count) + '.jpg'), 'wb') as f:\n",
    "                    f.write(rawdata)\n",
    "                    \n",
    "                    time.sleep(0.1)\n",
    "                ###### db data 저장\n",
    "                path_full = f'{date}/{resource}/' + str(pk) +\"_\"+ color +\"_\"+ where +\"_\"+ str(count) + '.jpg'\n",
    "                count += 1\n",
    "                search_query.append(word)\n",
    "                kl_name.append(color)\n",
    "                path.append(path_full)\n",
    "                url_column.append(url)\n",
    "                category_uid.append(where)\n",
    "                kl_pk.append(pk)\n",
    "                time.sleep(0.1)\n",
    "                \n",
    "                \n",
    "                \n",
    "                \n",
    "            except Exception as e:\n",
    "                print('Failed to write rawdata.')\n",
    "                print(e)\n",
    "            if count == 501:\n",
    "                break\n",
    "        time.sleep(1)\n",
    "\n",
    "    \n",
    "    "
   ]
  },
  {
   "cell_type": "code",
   "execution_count": null,
   "metadata": {},
   "outputs": [],
   "source": [
    "result = pd.DataFrame(list(zip(search_query, kl_name, path, url_column, category_uid)),\n",
    "                          columns=['search_query', 'kl_name', 'path', 'url_column','category_uid'])\n",
    "result"
   ]
  },
  {
   "cell_type": "code",
   "execution_count": null,
   "metadata": {},
   "outputs": [],
   "source": [
    "result.to_excel('./pinterest_to_db_62_last.xlsx', index=False, encoding='utf-8')"
   ]
  },
  {
   "cell_type": "code",
   "execution_count": null,
   "metadata": {},
   "outputs": [],
   "source": []
  },
  {
   "cell_type": "code",
   "execution_count": null,
   "metadata": {},
   "outputs": [],
   "source": []
  }
 ],
 "metadata": {
  "kernelspec": {
   "display_name": "Python 3",
   "language": "python",
   "name": "python3"
  },
  "language_info": {
   "codemirror_mode": {
    "name": "ipython",
    "version": 3
   },
   "file_extension": ".py",
   "mimetype": "text/x-python",
   "name": "python",
   "nbconvert_exporter": "python",
   "pygments_lexer": "ipython3",
   "version": "3.8.5"
  }
 },
 "nbformat": 4,
 "nbformat_minor": 4
}
